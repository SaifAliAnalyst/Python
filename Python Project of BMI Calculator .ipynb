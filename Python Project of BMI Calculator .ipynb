{
 "cells": [
  {
   "cell_type": "markdown",
   "id": "c566bb1b-b13a-46d2-86bc-e7859721d58d",
   "metadata": {},
   "source": [
    "# BMI Calculator\n",
    "\n",
    "https://mercer-health.com/services/weight-management-center/bmi-calculator#:~:text=Body%20Mass%20Index%2C%20or%20BMI,inches%20x%20height%20in%20inches"
   ]
  },
  {
   "cell_type": "code",
   "execution_count": 60,
   "id": "0f42d64c-3baa-4fda-82da-74f70e938ab3",
   "metadata": {},
   "outputs": [
    {
     "name": "stdin",
     "output_type": "stream",
     "text": [
      "Enter your Name: saif\n",
      "Enter your weight in Pounds: 0\n",
      "Enter your height in inches: 1\n"
     ]
    },
    {
     "name": "stdout",
     "output_type": "stream",
     "text": [
      "0.0\n",
      "saif, Enter Valid Inputs.\n"
     ]
    }
   ],
   "source": [
    "name = input(\"Enter your Name:\")\n",
    "\n",
    "weight = int(input(\"Enter your weight in Pounds:\"))\n",
    "\n",
    "height = int(input(\"Enter your height in inches:\"))\n",
    "\n",
    "BMI = (weight * 703) / (height * height)\n",
    "\n",
    "print(BMI)\n",
    "\n",
    "\n",
    "if BMI>0:\n",
    "    if(BMI<18.5):\n",
    "        print(name+\", You Are Underweight.\")\n",
    "    elif(BMI<=24.9):\n",
    "        print(name+\", You Are Normal Weight. Keep it if you can.\")\n",
    "    elif(BMI<=29.9):\n",
    "        print(name+\", You Are Overweight.\")\n",
    "    elif(BMI<=34.9):\n",
    "        print(name+\", You Are Obese.\")\n",
    "    elif(BMI<=39.9):\n",
    "        print(name+\", You Are Severely Obese.\")\n",
    "    else:\n",
    "        print(name+\", You Are Morbidly Obese.\") \n",
    "else:\n",
    "    print(name+\", Enter Valid Inputs.\")"
   ]
  },
  {
   "cell_type": "code",
   "execution_count": null,
   "id": "907cd0d5-5f83-488b-96ab-0090d85c9d6e",
   "metadata": {},
   "outputs": [],
   "source": []
  },
  {
   "cell_type": "code",
   "execution_count": null,
   "id": "2cdc875a-b862-43eb-8634-9dc10a9cf3dc",
   "metadata": {},
   "outputs": [],
   "source": [
    "#BMI = (weight in pounds x 703) / (height in inches x height in inches)"
   ]
  },
  {
   "cell_type": "code",
   "execution_count": null,
   "id": "cf7bc075-1591-4526-82a7-52ff803c74d7",
   "metadata": {},
   "outputs": [],
   "source": [
    "print(wieght)"
   ]
  },
  {
   "cell_type": "code",
   "execution_count": null,
   "id": "720b1762-1384-4de1-b99a-d0c95ae6af1a",
   "metadata": {},
   "outputs": [],
   "source": []
  },
  {
   "cell_type": "code",
   "execution_count": null,
   "id": "cc9dac7d-4145-41c1-a3b8-fdf55baf8a9a",
   "metadata": {},
   "outputs": [],
   "source": [
    "Under 18.5\tUnderweight\tMinimal\n",
    "18.5 - 24.9\tNormal Weight\tMinimal\n",
    "25 - 29.9\tOverweight\tIncreased\n",
    "30 - 34.9\tObese\tHigh\n",
    "35 - 39.9\tSeverely Obese\tVery High\n",
    "40 and over\tMorbidly Obese\tExtremely High"
   ]
  },
  {
   "cell_type": "code",
   "execution_count": 48,
   "id": "fe94d3b1-9c9e-47f3-8afd-dd1259adb5c1",
   "metadata": {},
   "outputs": [
    {
     "name": "stdout",
     "output_type": "stream",
     "text": [
      "Saif Ali, You Are Normal Weight\n"
     ]
    }
   ],
   "source": [
    "if BMI>0:\n",
    "    if(BMI<18.5):\n",
    "        print(name+\", You Are Underweight\")\n",
    "    elif(BMI<=24.9):\n",
    "        print(name+\", You Are Normal Weight\")\n",
    "    elif(BMI<=29.9):\n",
    "        print(name+\", You Are Overweight\")\n",
    "        \n",
    "    elif(BMI<=34.9):\n",
    "        print(name+\", You Are Obese\")\n",
    "    elif(BMI<=39.9):\n",
    "        print(name+\", You Are Severely Obese\")\n",
    "    else:\n",
    "        print(name+\", You Are Morbidly Obese\") \n",
    "else:\n",
    "    print(name+\", Enter Valid Inputs\")"
   ]
  },
  {
   "cell_type": "code",
   "execution_count": null,
   "id": "87e5f15a-7e23-44c2-9214-450f8cbab16c",
   "metadata": {},
   "outputs": [],
   "source": []
  },
  {
   "cell_type": "code",
   "execution_count": null,
   "id": "de679230-6f77-4097-ba51-74323d068ed6",
   "metadata": {},
   "outputs": [],
   "source": []
  },
  {
   "cell_type": "code",
   "execution_count": null,
   "id": "cb9ea5f6-e9b3-488d-86d2-3a0701724c49",
   "metadata": {},
   "outputs": [],
   "source": []
  },
  {
   "cell_type": "code",
   "execution_count": null,
   "id": "f06b337d-eb32-47f2-8060-e97f0c383d1b",
   "metadata": {},
   "outputs": [],
   "source": []
  },
  {
   "cell_type": "code",
   "execution_count": null,
   "id": "0c2e5607-4fb1-4dc8-b910-4a91250be9e7",
   "metadata": {},
   "outputs": [],
   "source": []
  },
  {
   "cell_type": "code",
   "execution_count": null,
   "id": "4baa0663-93c1-4845-8961-b9eab6b2db9f",
   "metadata": {},
   "outputs": [],
   "source": []
  },
  {
   "cell_type": "code",
   "execution_count": null,
   "id": "7c1527c3-bedc-4e74-815d-76911fa78690",
   "metadata": {},
   "outputs": [],
   "source": []
  },
  {
   "cell_type": "code",
   "execution_count": null,
   "id": "00a911c0-9e24-4d9b-a1e9-220831b9f537",
   "metadata": {},
   "outputs": [],
   "source": []
  },
  {
   "cell_type": "code",
   "execution_count": null,
   "id": "4e5d466f-3955-43a0-915c-fa11d24e410c",
   "metadata": {},
   "outputs": [],
   "source": []
  },
  {
   "cell_type": "code",
   "execution_count": null,
   "id": "4b54aa88-087a-471d-97a9-7590f970393a",
   "metadata": {},
   "outputs": [],
   "source": []
  },
  {
   "cell_type": "code",
   "execution_count": null,
   "id": "527323f2-b180-46d5-9218-a08ecc0230d6",
   "metadata": {},
   "outputs": [],
   "source": []
  },
  {
   "cell_type": "code",
   "execution_count": null,
   "id": "36e8dd18-e9ce-42e7-80ac-a214bc9344df",
   "metadata": {},
   "outputs": [],
   "source": []
  },
  {
   "cell_type": "code",
   "execution_count": null,
   "id": "a773d1ca-b80b-45a8-a5ad-8e51f3ee713e",
   "metadata": {},
   "outputs": [],
   "source": []
  },
  {
   "cell_type": "code",
   "execution_count": null,
   "id": "5c9d8f7c-ff98-4382-bb70-ad83ca081989",
   "metadata": {},
   "outputs": [],
   "source": []
  },
  {
   "cell_type": "code",
   "execution_count": null,
   "id": "f31acc26-979d-45dc-838b-55b146f8c0fc",
   "metadata": {},
   "outputs": [],
   "source": []
  },
  {
   "cell_type": "code",
   "execution_count": null,
   "id": "1b471406-22b5-4236-a17c-431436b86286",
   "metadata": {},
   "outputs": [],
   "source": []
  },
  {
   "cell_type": "code",
   "execution_count": null,
   "id": "78423f53-374f-462c-985f-874cf2d2ca9c",
   "metadata": {},
   "outputs": [],
   "source": []
  },
  {
   "cell_type": "code",
   "execution_count": null,
   "id": "12f0344d-1319-4482-b223-ef72e4e45bfe",
   "metadata": {},
   "outputs": [],
   "source": []
  },
  {
   "cell_type": "code",
   "execution_count": null,
   "id": "807396ea-5ced-47f9-a884-ea647131c7ee",
   "metadata": {},
   "outputs": [],
   "source": []
  },
  {
   "cell_type": "code",
   "execution_count": null,
   "id": "7a89acfc-66b9-49e5-a8f3-b3233d2d33c3",
   "metadata": {},
   "outputs": [],
   "source": []
  },
  {
   "cell_type": "code",
   "execution_count": null,
   "id": "df6b5a07-354f-4beb-b8e3-77b074616484",
   "metadata": {},
   "outputs": [],
   "source": []
  },
  {
   "cell_type": "code",
   "execution_count": null,
   "id": "6abffa55-a596-44b3-a42f-7e952489112a",
   "metadata": {},
   "outputs": [],
   "source": []
  },
  {
   "cell_type": "code",
   "execution_count": null,
   "id": "2b9f4e77-b00a-4d85-88d7-9f75d879b6fe",
   "metadata": {},
   "outputs": [],
   "source": []
  },
  {
   "cell_type": "code",
   "execution_count": null,
   "id": "fa88bc8b-78df-444c-bcc6-9de748c830b6",
   "metadata": {},
   "outputs": [],
   "source": []
  },
  {
   "cell_type": "code",
   "execution_count": null,
   "id": "cf7a40da-ed24-4927-aa7b-3585f48f2216",
   "metadata": {},
   "outputs": [],
   "source": []
  },
  {
   "cell_type": "code",
   "execution_count": null,
   "id": "9610e7ae-ad0c-4074-9387-086e4f6bb244",
   "metadata": {},
   "outputs": [],
   "source": []
  },
  {
   "cell_type": "code",
   "execution_count": null,
   "id": "0079df2a-068c-4d84-939e-18d839095ab6",
   "metadata": {},
   "outputs": [],
   "source": []
  },
  {
   "cell_type": "code",
   "execution_count": null,
   "id": "be3df3f8-aa19-491a-bbb6-2d1c30aa1d3f",
   "metadata": {},
   "outputs": [],
   "source": []
  },
  {
   "cell_type": "code",
   "execution_count": null,
   "id": "de97a017-d8e0-451c-972d-8c76046dc599",
   "metadata": {},
   "outputs": [],
   "source": []
  },
  {
   "cell_type": "code",
   "execution_count": null,
   "id": "b2a07e14-85af-40a5-9a43-7d90df5311da",
   "metadata": {},
   "outputs": [],
   "source": []
  },
  {
   "cell_type": "code",
   "execution_count": null,
   "id": "b88943f1-3096-4bc1-a363-a8c3c6e4ba04",
   "metadata": {},
   "outputs": [],
   "source": []
  },
  {
   "cell_type": "code",
   "execution_count": null,
   "id": "53e4b484-ee77-4acc-9d54-3d5430cc3ade",
   "metadata": {},
   "outputs": [],
   "source": []
  },
  {
   "cell_type": "code",
   "execution_count": null,
   "id": "681daf83-d2cd-4ab7-9168-5e595c6770be",
   "metadata": {},
   "outputs": [],
   "source": []
  },
  {
   "cell_type": "code",
   "execution_count": null,
   "id": "7109e881-a048-4e79-945a-7e4760515f15",
   "metadata": {},
   "outputs": [],
   "source": []
  },
  {
   "cell_type": "code",
   "execution_count": null,
   "id": "73cda34e-0077-4343-8ef9-f0e1a859a325",
   "metadata": {},
   "outputs": [],
   "source": []
  },
  {
   "cell_type": "code",
   "execution_count": null,
   "id": "16cb5307-40e4-4a21-a5d1-ce289111404b",
   "metadata": {},
   "outputs": [],
   "source": []
  },
  {
   "cell_type": "code",
   "execution_count": null,
   "id": "6486ec95-3d31-4e97-8442-b7eff4e7fc60",
   "metadata": {},
   "outputs": [],
   "source": []
  },
  {
   "cell_type": "code",
   "execution_count": null,
   "id": "60d46cda-5898-4b58-9e33-6b7b97b475e3",
   "metadata": {},
   "outputs": [],
   "source": []
  },
  {
   "cell_type": "code",
   "execution_count": null,
   "id": "563dd194-7851-45d7-b1d9-f5f4fe8eaf91",
   "metadata": {},
   "outputs": [],
   "source": []
  },
  {
   "cell_type": "code",
   "execution_count": null,
   "id": "7dd23e41-d9de-4a35-b4e3-9748fd7a01c7",
   "metadata": {},
   "outputs": [],
   "source": []
  },
  {
   "cell_type": "code",
   "execution_count": null,
   "id": "cfb0b6f5-aaa8-46dc-a5c6-061d38ad9aae",
   "metadata": {},
   "outputs": [],
   "source": []
  },
  {
   "cell_type": "code",
   "execution_count": null,
   "id": "7e650220-c140-4cd3-8e8f-1629c220e386",
   "metadata": {},
   "outputs": [],
   "source": []
  },
  {
   "cell_type": "code",
   "execution_count": null,
   "id": "8e59312f-309f-4e1e-b7ad-766f2ee5629a",
   "metadata": {},
   "outputs": [],
   "source": []
  },
  {
   "cell_type": "code",
   "execution_count": null,
   "id": "67167032-c748-46b1-9e2d-6c07861b0ac4",
   "metadata": {},
   "outputs": [],
   "source": []
  },
  {
   "cell_type": "code",
   "execution_count": null,
   "id": "b45b47f8-f63b-443c-bb93-3591f2fab669",
   "metadata": {},
   "outputs": [],
   "source": []
  },
  {
   "cell_type": "code",
   "execution_count": null,
   "id": "db826ccc-815b-4b98-8820-fc002fc16105",
   "metadata": {},
   "outputs": [],
   "source": []
  },
  {
   "cell_type": "code",
   "execution_count": null,
   "id": "b987000f-2847-4d00-89b2-74becebbea46",
   "metadata": {},
   "outputs": [],
   "source": []
  }
 ],
 "metadata": {
  "kernelspec": {
   "display_name": "Python 3 (ipykernel)",
   "language": "python",
   "name": "python3"
  },
  "language_info": {
   "codemirror_mode": {
    "name": "ipython",
    "version": 3
   },
   "file_extension": ".py",
   "mimetype": "text/x-python",
   "name": "python",
   "nbconvert_exporter": "python",
   "pygments_lexer": "ipython3",
   "version": "3.12.7"
  }
 },
 "nbformat": 4,
 "nbformat_minor": 5
}
