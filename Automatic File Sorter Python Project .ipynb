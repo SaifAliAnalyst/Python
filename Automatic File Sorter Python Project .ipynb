{
 "cells": [
  {
   "cell_type": "markdown",
   "id": "8485604f-8276-4dd6-b811-47cb9c3071e3",
   "metadata": {},
   "source": [
    "# Automatic File Sorter in File Explorer\n"
   ]
  },
  {
   "cell_type": "code",
   "execution_count": 67,
   "id": "f0b73d30-a8e6-4f8a-9f55-f8157a2cf0ca",
   "metadata": {},
   "outputs": [],
   "source": [
    "import os, shutil"
   ]
  },
  {
   "cell_type": "code",
   "execution_count": 69,
   "id": "affb3f44-30cd-4c63-be66-8f4b95f1dea8",
   "metadata": {},
   "outputs": [],
   "source": [
    "path = r\"C:/Users/saifa/Downloads/Python second Project/\""
   ]
  },
  {
   "cell_type": "code",
   "execution_count": 71,
   "id": "74330fac-8165-4898-acba-95d62ba2cc72",
   "metadata": {},
   "outputs": [],
   "source": [
    "file_name = os.listdir(path)"
   ]
  },
  {
   "cell_type": "code",
   "execution_count": 73,
   "id": "fd2e36da-a129-46cc-a7f2-43edfd1d4897",
   "metadata": {},
   "outputs": [
    {
     "name": "stdout",
     "output_type": "stream",
     "text": [
      "C:/Users/saifa/Downloads/Python second Project/txt files\n",
      "C:/Users/saifa/Downloads/Python second Project/jpg files\n",
      "C:/Users/saifa/Downloads/Python second Project/csv files\n"
     ]
    }
   ],
   "source": [
    "folder_names = ['txt files', 'jpg files', 'csv files']\n",
    "\n",
    "for loop in range(0,3):\n",
    "    if not os.path.exists(path + folder_names[loop]):\n",
    "        print(path + folder_names[loop])\n",
    "        os.makedirs(path + folder_names[loop])\n",
    "\n",
    "for file in file_name:\n",
    "    if '.csv' in file and not os.path.exists(path + \"csv files/\" + file):\n",
    "        shutil.move(path + file, path + \"csv files/\" + file)\n",
    "    elif '.jpg' in file and not os.path.exists(path + \"jpg files/\" + file):\n",
    "        shutil.move(path + file, path + \"jpg files/\" + file)\n",
    "    elif '.txt' in file and not os.path.exists(path + \"txt files/\" + file):\n",
    "        shutil.move(path + file, path + \"txt files/\" + file)"
   ]
  },
  {
   "cell_type": "code",
   "execution_count": 65,
   "id": "d2e2ffeb-a2ea-4862-b78b-6a592d635689",
   "metadata": {},
   "outputs": [],
   "source": []
  },
  {
   "cell_type": "code",
   "execution_count": null,
   "id": "35b848e3-f4b3-4a6c-9212-c0bcaa00c0f8",
   "metadata": {},
   "outputs": [],
   "source": []
  },
  {
   "cell_type": "code",
   "execution_count": null,
   "id": "b9caa628-aaf7-40ab-9560-5256e9a5fc1a",
   "metadata": {},
   "outputs": [],
   "source": []
  },
  {
   "cell_type": "code",
   "execution_count": null,
   "id": "90c3bf8e-918c-4e36-9880-ec31ce30760a",
   "metadata": {},
   "outputs": [],
   "source": []
  },
  {
   "cell_type": "code",
   "execution_count": null,
   "id": "3a255140-db6c-4096-a02f-afeba7885f88",
   "metadata": {},
   "outputs": [],
   "source": []
  },
  {
   "cell_type": "code",
   "execution_count": null,
   "id": "9bad37cd-1860-490b-8271-9122b7b24b57",
   "metadata": {},
   "outputs": [],
   "source": []
  },
  {
   "cell_type": "code",
   "execution_count": null,
   "id": "d37c4c1f-38f5-4d41-89d8-d64281f2e3ce",
   "metadata": {},
   "outputs": [],
   "source": []
  },
  {
   "cell_type": "code",
   "execution_count": null,
   "id": "36efa75a-39d4-4eaf-b4e6-e16d88d3e38f",
   "metadata": {},
   "outputs": [],
   "source": []
  },
  {
   "cell_type": "code",
   "execution_count": null,
   "id": "11e88093-8c47-41fa-b3a4-25c9bcaf73d4",
   "metadata": {},
   "outputs": [],
   "source": []
  },
  {
   "cell_type": "code",
   "execution_count": null,
   "id": "87506092-9cd6-406c-ac99-5f897fc629a1",
   "metadata": {},
   "outputs": [],
   "source": []
  },
  {
   "cell_type": "code",
   "execution_count": null,
   "id": "b3da12f2-656d-4935-97fd-659008008e2e",
   "metadata": {},
   "outputs": [],
   "source": []
  },
  {
   "cell_type": "code",
   "execution_count": null,
   "id": "dd29a9c8-b822-4c94-b0c8-f570487498b4",
   "metadata": {},
   "outputs": [],
   "source": []
  },
  {
   "cell_type": "code",
   "execution_count": null,
   "id": "6d6c7197-6bcb-481d-817c-ba5745d6049b",
   "metadata": {},
   "outputs": [],
   "source": []
  },
  {
   "cell_type": "code",
   "execution_count": null,
   "id": "bf99ee9a-ad86-43be-91bf-2178209493d9",
   "metadata": {},
   "outputs": [],
   "source": []
  },
  {
   "cell_type": "code",
   "execution_count": null,
   "id": "63d4d747-8ea1-4d2e-9353-58eb4ba1646b",
   "metadata": {},
   "outputs": [],
   "source": []
  },
  {
   "cell_type": "code",
   "execution_count": null,
   "id": "5cb3ec1f-81f6-4e09-816a-f432a076cbbc",
   "metadata": {},
   "outputs": [],
   "source": []
  },
  {
   "cell_type": "code",
   "execution_count": null,
   "id": "a3af4a5c-c1a2-4286-b1d6-78e6bfac3bcc",
   "metadata": {},
   "outputs": [],
   "source": []
  },
  {
   "cell_type": "code",
   "execution_count": null,
   "id": "010d471b-6b3f-4d0d-a840-96e27e0e38be",
   "metadata": {},
   "outputs": [],
   "source": []
  },
  {
   "cell_type": "code",
   "execution_count": null,
   "id": "64bb5bb4-efd4-4914-a0ad-3aa15cd711ef",
   "metadata": {},
   "outputs": [],
   "source": []
  },
  {
   "cell_type": "code",
   "execution_count": null,
   "id": "05ca6b19-c3d2-47d9-80da-a5dfe6d72048",
   "metadata": {},
   "outputs": [],
   "source": []
  },
  {
   "cell_type": "code",
   "execution_count": null,
   "id": "c5110c83-a372-489d-8564-ac22bd0a0121",
   "metadata": {},
   "outputs": [],
   "source": []
  },
  {
   "cell_type": "code",
   "execution_count": null,
   "id": "6822ec02-f91f-42ec-bf7a-7560154a8b11",
   "metadata": {},
   "outputs": [],
   "source": []
  },
  {
   "cell_type": "code",
   "execution_count": null,
   "id": "8e6bc170-1220-4055-bed9-5bea571a3247",
   "metadata": {},
   "outputs": [],
   "source": []
  },
  {
   "cell_type": "code",
   "execution_count": null,
   "id": "819a20db-7f7d-4695-9999-1c0bc1ef4bf2",
   "metadata": {},
   "outputs": [],
   "source": []
  },
  {
   "cell_type": "code",
   "execution_count": null,
   "id": "386aaa65-f28d-4d73-a507-0c2cd234ff47",
   "metadata": {},
   "outputs": [],
   "source": []
  }
 ],
 "metadata": {
  "kernelspec": {
   "display_name": "Python 3 (ipykernel)",
   "language": "python",
   "name": "python3"
  },
  "language_info": {
   "codemirror_mode": {
    "name": "ipython",
    "version": 3
   },
   "file_extension": ".py",
   "mimetype": "text/x-python",
   "name": "python",
   "nbconvert_exporter": "python",
   "pygments_lexer": "ipython3",
   "version": "3.12.7"
  }
 },
 "nbformat": 4,
 "nbformat_minor": 5
}
